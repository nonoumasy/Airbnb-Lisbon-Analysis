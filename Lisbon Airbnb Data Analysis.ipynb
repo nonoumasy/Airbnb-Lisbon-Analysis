{
 "cells": [
  {
   "cell_type": "code",
   "execution_count": 112,
   "metadata": {
    "ExecuteTime": {
     "end_time": "2019-08-01T23:20:19.466309Z",
     "start_time": "2019-08-01T23:20:19.456971Z"
    }
   },
   "outputs": [
    {
     "data": {
      "text/html": [
       "<img src=\"https://encrypted-tbn0.gstatic.com/images?q=tbn:ANd9GcSPp3S5k4BfXDUeaz6wY9EzxGRk25RbAzVsRdUeKX8xHc6dwk5O\"/>"
      ],
      "text/plain": [
       "<IPython.core.display.Image object>"
      ]
     },
     "execution_count": 112,
     "metadata": {},
     "output_type": "execute_result"
    }
   ],
   "source": [
    "from IPython.display import Image\n",
    "from IPython.core.display import HTML \n",
    "Image(url= \"https://encrypted-tbn0.gstatic.com/images?q=tbn:ANd9GcSPp3S5k4BfXDUeaz6wY9EzxGRk25RbAzVsRdUeKX8xHc6dwk5O\")"
   ]
  },
  {
   "cell_type": "markdown",
   "metadata": {},
   "source": [
    "# Airbnb in Lisbon"
   ]
  },
  {
   "cell_type": "markdown",
   "metadata": {},
   "source": [
    "# Import Packages"
   ]
  },
  {
   "cell_type": "code",
   "execution_count": 34,
   "metadata": {
    "ExecuteTime": {
     "end_time": "2019-08-01T22:53:16.471727Z",
     "start_time": "2019-08-01T22:53:16.465915Z"
    }
   },
   "outputs": [],
   "source": [
    "import pandas as pd\n",
    "import pandas_profiling\n",
    "\n",
    "%matplotlib inline"
   ]
  },
  {
   "cell_type": "markdown",
   "metadata": {},
   "source": [
    "## Let's get some data"
   ]
  },
  {
   "cell_type": "code",
   "execution_count": 72,
   "metadata": {
    "ExecuteTime": {
     "end_time": "2019-08-01T23:04:09.338224Z",
     "start_time": "2019-08-01T23:04:09.279410Z"
    }
   },
   "outputs": [],
   "source": [
    "#data from insideairbnb.com\n",
    "\n",
    "reviews = '/Users/nonoumasy/Google Drive/Colab Notebooks/airbnb_lisbon/reviews.csv'\n",
    "listings = '/Users/nonoumasy/Google Drive/Colab Notebooks/airbnb_lisbon/listings.csv'\n",
    "#cal = '/Users/nonoumasy/Google Drive/Colab Notebooks/airbnb_lisbon/calendar.csv'\n",
    "\n",
    "reviews = pd.read_csv(reviews, nrows=100)\n",
    "listings = pd.read_csv(listings, nrows=100)\n",
    "reviews = reviews.iloc[:,[0,2,3,4,5]]\n",
    "\n",
    "#merge both dataframes\n",
    "df = pd.concat([listings, reviews], axis=1)"
   ]
  },
  {
   "cell_type": "code",
   "execution_count": 71,
   "metadata": {
    "ExecuteTime": {
     "end_time": "2019-08-01T23:03:57.086870Z",
     "start_time": "2019-08-01T23:03:57.080805Z"
    }
   },
   "outputs": [],
   "source": []
  },
  {
   "cell_type": "markdown",
   "metadata": {},
   "source": [
    "# Preprocess Data"
   ]
  },
  {
   "cell_type": "code",
   "execution_count": 21,
   "metadata": {
    "ExecuteTime": {
     "end_time": "2019-08-01T22:43:56.349971Z",
     "start_time": "2019-08-01T22:43:56.333839Z"
    }
   },
   "outputs": [
    {
     "data": {
      "text/html": [
       "<div>\n",
       "<style scoped>\n",
       "    .dataframe tbody tr th:only-of-type {\n",
       "        vertical-align: middle;\n",
       "    }\n",
       "\n",
       "    .dataframe tbody tr th {\n",
       "        vertical-align: top;\n",
       "    }\n",
       "\n",
       "    .dataframe thead th {\n",
       "        text-align: right;\n",
       "    }\n",
       "</style>\n",
       "<table border=\"1\" class=\"dataframe\">\n",
       "  <thead>\n",
       "    <tr style=\"text-align: right;\">\n",
       "      <th></th>\n",
       "      <th>neighbourhood</th>\n",
       "      <th>neighbourhood_cleansed</th>\n",
       "      <th>neighbourhood_group_cleansed</th>\n",
       "    </tr>\n",
       "  </thead>\n",
       "  <tbody>\n",
       "    <tr>\n",
       "      <th>0</th>\n",
       "      <td>Belém</td>\n",
       "      <td>Belm</td>\n",
       "      <td>Lisboa</td>\n",
       "    </tr>\n",
       "    <tr>\n",
       "      <th>1</th>\n",
       "      <td>Alfama</td>\n",
       "      <td>Santa Maria Maior</td>\n",
       "      <td>Lisboa</td>\n",
       "    </tr>\n",
       "    <tr>\n",
       "      <th>2</th>\n",
       "      <td>NaN</td>\n",
       "      <td>Aveiras de Cima</td>\n",
       "      <td>Azambuja</td>\n",
       "    </tr>\n",
       "    <tr>\n",
       "      <th>3</th>\n",
       "      <td>São João de Deus</td>\n",
       "      <td>Areeiro</td>\n",
       "      <td>Lisboa</td>\n",
       "    </tr>\n",
       "    <tr>\n",
       "      <th>4</th>\n",
       "      <td>Alfama</td>\n",
       "      <td>Santa Maria Maior</td>\n",
       "      <td>Lisboa</td>\n",
       "    </tr>\n",
       "  </tbody>\n",
       "</table>\n",
       "</div>"
      ],
      "text/plain": [
       "      neighbourhood neighbourhood_cleansed neighbourhood_group_cleansed\n",
       "0             Belém                   Belm                       Lisboa\n",
       "1            Alfama      Santa Maria Maior                       Lisboa\n",
       "2               NaN        Aveiras de Cima                     Azambuja\n",
       "3  São João de Deus                Areeiro                       Lisboa\n",
       "4            Alfama      Santa Maria Maior                       Lisboa"
      ]
     },
     "execution_count": 21,
     "metadata": {},
     "output_type": "execute_result"
    }
   ],
   "source": [
    "#quick check to see which neighborhood to use. Looks like neighborhood_cleansed is best\n",
    "df[['neighbourhood', 'neighbourhood_cleansed', 'neighbourhood_group_cleansed']].head()"
   ]
  },
  {
   "cell_type": "code",
   "execution_count": 73,
   "metadata": {
    "ExecuteTime": {
     "end_time": "2019-08-01T23:04:16.276397Z",
     "start_time": "2019-08-01T23:04:16.263315Z"
    }
   },
   "outputs": [],
   "source": [
    "#keep only relevant variables\n",
    "df = df[['id',\n",
    "         'name',\n",
    "         'summary',\n",
    "         'space',\n",
    "         'description',\n",
    "         'neighborhood_overview',\n",
    "         'notes',\n",
    "         'transit',\n",
    "         'neighbourhood_cleansed',\n",
    "         'latitude',\n",
    "         'longitude',\n",
    "         'property_type',\n",
    "         'room_type',\n",
    "         'square_feet',\n",
    "         'price', \n",
    "         'weekly_price',                                   \n",
    "         'monthly_price', \n",
    "         'square_feet',\n",
    "         'availability_30',\n",
    "         'review_scores_rating',\n",
    "         'review_scores_location',\n",
    "         'comments']]\n",
    "\n",
    "\n",
    "#remove symbols from price and cast it to float\n",
    "df.price = [x.strip('$') for x in df.price]\n",
    "df['price'] = df['price'].str.replace(',','')\n",
    "df['price'] = pd.to_numeric(df.price)"
   ]
  },
  {
   "cell_type": "code",
   "execution_count": 74,
   "metadata": {
    "ExecuteTime": {
     "end_time": "2019-08-01T23:04:21.693952Z",
     "start_time": "2019-08-01T23:04:21.678306Z"
    },
    "scrolled": false
   },
   "outputs": [
    {
     "name": "stdout",
     "output_type": "stream",
     "text": [
      "<class 'pandas.core.frame.DataFrame'>\n",
      "RangeIndex: 100 entries, 0 to 99\n",
      "Data columns (total 22 columns):\n",
      "id                        100 non-null int64\n",
      "name                      100 non-null object\n",
      "summary                   66 non-null object\n",
      "space                     99 non-null object\n",
      "description               100 non-null object\n",
      "neighborhood_overview     54 non-null object\n",
      "notes                     49 non-null object\n",
      "transit                   52 non-null object\n",
      "neighbourhood_cleansed    100 non-null object\n",
      "latitude                  100 non-null float64\n",
      "longitude                 100 non-null float64\n",
      "property_type             100 non-null object\n",
      "room_type                 100 non-null object\n",
      "square_feet               34 non-null float64\n",
      "price                     100 non-null object\n",
      "weekly_price              47 non-null object\n",
      "monthly_price             44 non-null object\n",
      "square_feet               34 non-null float64\n",
      "availability_30           100 non-null int64\n",
      "review_scores_rating      82 non-null float64\n",
      "review_scores_location    81 non-null float64\n",
      "comments                  100 non-null object\n",
      "dtypes: float64(6), int64(2), object(14)\n",
      "memory usage: 17.3+ KB\n"
     ]
    }
   ],
   "source": [
    "df.info(verbose=True)"
   ]
  },
  {
   "cell_type": "markdown",
   "metadata": {},
   "source": [
    "# Summary Statistics"
   ]
  },
  {
   "cell_type": "code",
   "execution_count": 93,
   "metadata": {
    "ExecuteTime": {
     "end_time": "2019-08-01T23:11:34.100981Z",
     "start_time": "2019-08-01T23:11:34.044844Z"
    }
   },
   "outputs": [
    {
     "data": {
      "text/html": [
       "<div>\n",
       "<style scoped>\n",
       "    .dataframe tbody tr th:only-of-type {\n",
       "        vertical-align: middle;\n",
       "    }\n",
       "\n",
       "    .dataframe tbody tr th {\n",
       "        vertical-align: top;\n",
       "    }\n",
       "\n",
       "    .dataframe thead th {\n",
       "        text-align: right;\n",
       "    }\n",
       "</style>\n",
       "<table border=\"1\" class=\"dataframe\">\n",
       "  <thead>\n",
       "    <tr style=\"text-align: right;\">\n",
       "      <th></th>\n",
       "      <th>count</th>\n",
       "      <th>mean</th>\n",
       "      <th>std</th>\n",
       "      <th>min</th>\n",
       "      <th>25%</th>\n",
       "      <th>50%</th>\n",
       "      <th>75%</th>\n",
       "      <th>max</th>\n",
       "    </tr>\n",
       "  </thead>\n",
       "  <tbody>\n",
       "    <tr>\n",
       "      <th>id</th>\n",
       "      <td>100.0</td>\n",
       "      <td>111704.820000</td>\n",
       "      <td>44378.613700</td>\n",
       "      <td>6499.00000</td>\n",
       "      <td>83678.750000</td>\n",
       "      <td>125841.50000</td>\n",
       "      <td>147043.500000</td>\n",
       "      <td>174529.00000</td>\n",
       "    </tr>\n",
       "    <tr>\n",
       "      <th>latitude</th>\n",
       "      <td>100.0</td>\n",
       "      <td>38.745486</td>\n",
       "      <td>0.082077</td>\n",
       "      <td>38.68647</td>\n",
       "      <td>38.711647</td>\n",
       "      <td>38.71525</td>\n",
       "      <td>38.738235</td>\n",
       "      <td>39.14654</td>\n",
       "    </tr>\n",
       "    <tr>\n",
       "      <th>longitude</th>\n",
       "      <td>100.0</td>\n",
       "      <td>-9.192959</td>\n",
       "      <td>0.111208</td>\n",
       "      <td>-9.47342</td>\n",
       "      <td>-9.175675</td>\n",
       "      <td>-9.14830</td>\n",
       "      <td>-9.132560</td>\n",
       "      <td>-8.91503</td>\n",
       "    </tr>\n",
       "    <tr>\n",
       "      <th>square_feet</th>\n",
       "      <td>34.0</td>\n",
       "      <td>634.970588</td>\n",
       "      <td>1180.131926</td>\n",
       "      <td>0.00000</td>\n",
       "      <td>41.250000</td>\n",
       "      <td>377.00000</td>\n",
       "      <td>834.000000</td>\n",
       "      <td>6889.00000</td>\n",
       "    </tr>\n",
       "    <tr>\n",
       "      <th>price</th>\n",
       "      <td>100.0</td>\n",
       "      <td>92.420000</td>\n",
       "      <td>116.773819</td>\n",
       "      <td>17.00000</td>\n",
       "      <td>47.500000</td>\n",
       "      <td>65.00000</td>\n",
       "      <td>83.500000</td>\n",
       "      <td>1000.00000</td>\n",
       "    </tr>\n",
       "    <tr>\n",
       "      <th>square_feet</th>\n",
       "      <td>34.0</td>\n",
       "      <td>634.970588</td>\n",
       "      <td>1180.131926</td>\n",
       "      <td>0.00000</td>\n",
       "      <td>41.250000</td>\n",
       "      <td>377.00000</td>\n",
       "      <td>834.000000</td>\n",
       "      <td>6889.00000</td>\n",
       "    </tr>\n",
       "    <tr>\n",
       "      <th>availability_30</th>\n",
       "      <td>100.0</td>\n",
       "      <td>11.740000</td>\n",
       "      <td>11.143345</td>\n",
       "      <td>0.00000</td>\n",
       "      <td>3.000000</td>\n",
       "      <td>7.00000</td>\n",
       "      <td>21.250000</td>\n",
       "      <td>30.00000</td>\n",
       "    </tr>\n",
       "    <tr>\n",
       "      <th>review_scores_rating</th>\n",
       "      <td>82.0</td>\n",
       "      <td>92.512195</td>\n",
       "      <td>6.992490</td>\n",
       "      <td>60.00000</td>\n",
       "      <td>90.000000</td>\n",
       "      <td>94.00000</td>\n",
       "      <td>97.000000</td>\n",
       "      <td>100.00000</td>\n",
       "    </tr>\n",
       "    <tr>\n",
       "      <th>review_scores_location</th>\n",
       "      <td>81.0</td>\n",
       "      <td>9.518519</td>\n",
       "      <td>0.672888</td>\n",
       "      <td>7.00000</td>\n",
       "      <td>9.000000</td>\n",
       "      <td>10.00000</td>\n",
       "      <td>10.000000</td>\n",
       "      <td>10.00000</td>\n",
       "    </tr>\n",
       "  </tbody>\n",
       "</table>\n",
       "</div>"
      ],
      "text/plain": [
       "                        count           mean           std         min  \\\n",
       "id                      100.0  111704.820000  44378.613700  6499.00000   \n",
       "latitude                100.0      38.745486      0.082077    38.68647   \n",
       "longitude               100.0      -9.192959      0.111208    -9.47342   \n",
       "square_feet              34.0     634.970588   1180.131926     0.00000   \n",
       "price                   100.0      92.420000    116.773819    17.00000   \n",
       "square_feet              34.0     634.970588   1180.131926     0.00000   \n",
       "availability_30         100.0      11.740000     11.143345     0.00000   \n",
       "review_scores_rating     82.0      92.512195      6.992490    60.00000   \n",
       "review_scores_location   81.0       9.518519      0.672888     7.00000   \n",
       "\n",
       "                                 25%           50%            75%  \\\n",
       "id                      83678.750000  125841.50000  147043.500000   \n",
       "latitude                   38.711647      38.71525      38.738235   \n",
       "longitude                  -9.175675      -9.14830      -9.132560   \n",
       "square_feet                41.250000     377.00000     834.000000   \n",
       "price                      47.500000      65.00000      83.500000   \n",
       "square_feet                41.250000     377.00000     834.000000   \n",
       "availability_30             3.000000       7.00000      21.250000   \n",
       "review_scores_rating       90.000000      94.00000      97.000000   \n",
       "review_scores_location      9.000000      10.00000      10.000000   \n",
       "\n",
       "                                 max  \n",
       "id                      174529.00000  \n",
       "latitude                    39.14654  \n",
       "longitude                   -8.91503  \n",
       "square_feet               6889.00000  \n",
       "price                     1000.00000  \n",
       "square_feet               6889.00000  \n",
       "availability_30             30.00000  \n",
       "review_scores_rating       100.00000  \n",
       "review_scores_location      10.00000  "
      ]
     },
     "execution_count": 93,
     "metadata": {},
     "output_type": "execute_result"
    }
   ],
   "source": [
    "#summary stats\n",
    "df.describe().T"
   ]
  },
  {
   "cell_type": "code",
   "execution_count": 94,
   "metadata": {
    "ExecuteTime": {
     "end_time": "2019-08-01T23:11:53.531468Z",
     "start_time": "2019-08-01T23:11:53.524969Z"
    }
   },
   "outputs": [
    {
     "name": "stdout",
     "output_type": "stream",
     "text": [
      "Number of Lisbon listings  100\n",
      "Number of Reviews in Lisbon listings  100\n"
     ]
    }
   ],
   "source": [
    "#Number of listings in Lisbon\n",
    "print('Number of Lisbon listings ', listings.shape[0])\n",
    "\n",
    "#Number of reviews in Lisbon listings\n",
    "print('Number of Reviews in Lisbon listings ', reviews.shape[0])"
   ]
  },
  {
   "cell_type": "code",
   "execution_count": 97,
   "metadata": {
    "ExecuteTime": {
     "end_time": "2019-08-01T23:12:31.601942Z",
     "start_time": "2019-08-01T23:12:31.594310Z"
    }
   },
   "outputs": [
    {
     "data": {
      "text/plain": [
       "92.42"
      ]
     },
     "execution_count": 97,
     "metadata": {},
     "output_type": "execute_result"
    }
   ],
   "source": [
    "#What is the average price per night in dollars?\n",
    "df.price.mean()"
   ]
  },
  {
   "cell_type": "markdown",
   "metadata": {
    "ExecuteTime": {
     "end_time": "2019-08-01T06:53:39.450176Z",
     "start_time": "2019-08-01T06:53:39.440685Z"
    }
   },
   "source": [
    "# Neighborhoods - Let's get to know the area"
   ]
  },
  {
   "cell_type": "code",
   "execution_count": 105,
   "metadata": {
    "ExecuteTime": {
     "end_time": "2019-08-01T23:13:29.400271Z",
     "start_time": "2019-08-01T23:13:29.392832Z"
    }
   },
   "outputs": [
    {
     "data": {
      "text/plain": [
       "32"
      ]
     },
     "execution_count": 105,
     "metadata": {},
     "output_type": "execute_result"
    }
   ],
   "source": [
    "#Number of Lisbon neighborhoods\n",
    "df.neighbourhood_cleansed.nunique()"
   ]
  },
  {
   "cell_type": "code",
   "execution_count": 107,
   "metadata": {
    "ExecuteTime": {
     "end_time": "2019-08-01T23:13:52.675772Z",
     "start_time": "2019-08-01T23:13:52.665183Z"
    }
   },
   "outputs": [
    {
     "data": {
      "text/plain": [
       "Santa Maria Maior                                    21\n",
       "Misericrdia                                          14\n",
       "So Vicente                                           10\n",
       "Estrela                                               8\n",
       "Cascais e Estoril                                     6\n",
       "Santo Antnio                                          5\n",
       "Avenidas Novas                                        3\n",
       "Alvalade                                              3\n",
       "S.Maria, S.Miguel, S.Martinho, S.Pedro Penaferrim     3\n",
       "Colares                                               3\n",
       "Name: neighbourhood_cleansed, dtype: int64"
      ]
     },
     "execution_count": 107,
     "metadata": {},
     "output_type": "execute_result"
    }
   ],
   "source": [
    "#Lisbon neighborhoods\n",
    "df.neighbourhood_cleansed.value_counts()[:10]"
   ]
  },
  {
   "cell_type": "markdown",
   "metadata": {
    "ExecuteTime": {
     "end_time": "2019-08-01T07:48:23.119612Z",
     "start_time": "2019-08-01T07:48:20.799409Z"
    }
   },
   "source": [
    "# Listings"
   ]
  },
  {
   "cell_type": "code",
   "execution_count": 109,
   "metadata": {
    "ExecuteTime": {
     "end_time": "2019-08-01T23:14:17.298602Z",
     "start_time": "2019-08-01T23:14:17.255288Z"
    }
   },
   "outputs": [
    {
     "data": {
      "text/html": [
       "<div>\n",
       "<style scoped>\n",
       "    .dataframe tbody tr th:only-of-type {\n",
       "        vertical-align: middle;\n",
       "    }\n",
       "\n",
       "    .dataframe tbody tr th {\n",
       "        vertical-align: top;\n",
       "    }\n",
       "\n",
       "    .dataframe thead th {\n",
       "        text-align: right;\n",
       "    }\n",
       "</style>\n",
       "<table border=\"1\" class=\"dataframe\">\n",
       "  <thead>\n",
       "    <tr style=\"text-align: right;\">\n",
       "      <th></th>\n",
       "      <th>id</th>\n",
       "      <th>name</th>\n",
       "      <th>summary</th>\n",
       "      <th>space</th>\n",
       "      <th>description</th>\n",
       "      <th>neighborhood_overview</th>\n",
       "      <th>notes</th>\n",
       "      <th>transit</th>\n",
       "      <th>neighbourhood_cleansed</th>\n",
       "      <th>latitude</th>\n",
       "      <th>...</th>\n",
       "      <th>room_type</th>\n",
       "      <th>square_feet</th>\n",
       "      <th>price</th>\n",
       "      <th>weekly_price</th>\n",
       "      <th>monthly_price</th>\n",
       "      <th>square_feet</th>\n",
       "      <th>availability_30</th>\n",
       "      <th>review_scores_rating</th>\n",
       "      <th>review_scores_location</th>\n",
       "      <th>comments</th>\n",
       "    </tr>\n",
       "  </thead>\n",
       "  <tbody>\n",
       "    <tr>\n",
       "      <th>0</th>\n",
       "      <td>6499</td>\n",
       "      <td>Belém 1 Bedroom Historical Apartment</td>\n",
       "      <td>This apartment is all about Location, next to ...</td>\n",
       "      <td>Fully furnished apartment (35m2). Small inside...</td>\n",
       "      <td>This apartment is all about Location, next to ...</td>\n",
       "      <td>To get  to the city center, tram 15 stops in f...</td>\n",
       "      <td>Late check in's (after 20H) have an extra char...</td>\n",
       "      <td>The apartment is on the same street as the #15...</td>\n",
       "      <td>Belm</td>\n",
       "      <td>38.69675</td>\n",
       "      <td>...</td>\n",
       "      <td>Entire home/apt</td>\n",
       "      <td>377.0</td>\n",
       "      <td>36.0</td>\n",
       "      <td>$209.00</td>\n",
       "      <td>$579.00</td>\n",
       "      <td>377.0</td>\n",
       "      <td>5</td>\n",
       "      <td>98.0</td>\n",
       "      <td>10.0</td>\n",
       "      <td>Ola Bruno,\\r\\n\\r\\nTive um mes Fantástico em se...</td>\n",
       "    </tr>\n",
       "    <tr>\n",
       "      <th>1</th>\n",
       "      <td>25659</td>\n",
       "      <td>Sunny,  Alfama  Sleeps 3 - Coeur d'Alfama</td>\n",
       "      <td>Heart of Alfama! Center of Lisbon.  Sunny Char...</td>\n",
       "      <td>Charming sunny apartment in the heart of Alfam...</td>\n",
       "      <td>Heart of Alfama! Center of Lisbon.  Sunny Char...</td>\n",
       "      <td>Alfama is the oldest and most picturesque quar...</td>\n",
       "      <td>Check in after 3 PM although we try to accommo...</td>\n",
       "      <td>The apartment is very convenient to all kinds ...</td>\n",
       "      <td>Santa Maria Maior</td>\n",
       "      <td>38.71167</td>\n",
       "      <td>...</td>\n",
       "      <td>Entire home/apt</td>\n",
       "      <td>NaN</td>\n",
       "      <td>60.0</td>\n",
       "      <td>$350.00</td>\n",
       "      <td>NaN</td>\n",
       "      <td>NaN</td>\n",
       "      <td>5</td>\n",
       "      <td>96.0</td>\n",
       "      <td>10.0</td>\n",
       "      <td>Encontramos o apartamento de Bruno exatamente ...</td>\n",
       "    </tr>\n",
       "    <tr>\n",
       "      <th>2</th>\n",
       "      <td>28066</td>\n",
       "      <td>ear the birds</td>\n",
       "      <td>NaN</td>\n",
       "      <td>traditional farm house in a quiet place where ...</td>\n",
       "      <td>traditional farm house in a quiet place where ...</td>\n",
       "      <td>NaN</td>\n",
       "      <td>NaN</td>\n",
       "      <td>NaN</td>\n",
       "      <td>Aveiras de Cima</td>\n",
       "      <td>39.14654</td>\n",
       "      <td>...</td>\n",
       "      <td>Private room</td>\n",
       "      <td>NaN</td>\n",
       "      <td>53.0</td>\n",
       "      <td>NaN</td>\n",
       "      <td>NaN</td>\n",
       "      <td>NaN</td>\n",
       "      <td>30</td>\n",
       "      <td>NaN</td>\n",
       "      <td>NaN</td>\n",
       "      <td>Estivemos em Lisboa por aproximadamente 03 (tr...</td>\n",
       "    </tr>\n",
       "    <tr>\n",
       "      <th>3</th>\n",
       "      <td>29138</td>\n",
       "      <td>Room for rent in shared house</td>\n",
       "      <td>NaN</td>\n",
       "      <td>05 minutes from city center by subway, 10 minu...</td>\n",
       "      <td>05 minutes from city center by subway, 10 minu...</td>\n",
       "      <td>NaN</td>\n",
       "      <td>NaN</td>\n",
       "      <td>NaN</td>\n",
       "      <td>Areeiro</td>\n",
       "      <td>38.73634</td>\n",
       "      <td>...</td>\n",
       "      <td>Private room</td>\n",
       "      <td>NaN</td>\n",
       "      <td>71.0</td>\n",
       "      <td>NaN</td>\n",
       "      <td>NaN</td>\n",
       "      <td>NaN</td>\n",
       "      <td>30</td>\n",
       "      <td>NaN</td>\n",
       "      <td>NaN</td>\n",
       "      <td>Superbe quartier très proche du tram et du tra...</td>\n",
       "    </tr>\n",
       "    <tr>\n",
       "      <th>4</th>\n",
       "      <td>29248</td>\n",
       "      <td>Apartamento Alfama com vista para o rio!</td>\n",
       "      <td>NaN</td>\n",
       "      <td>Located in the city center, and great location...</td>\n",
       "      <td>Located in the city center, and great location...</td>\n",
       "      <td>NaN</td>\n",
       "      <td>NaN</td>\n",
       "      <td>NaN</td>\n",
       "      <td>Santa Maria Maior</td>\n",
       "      <td>38.71272</td>\n",
       "      <td>...</td>\n",
       "      <td>Entire home/apt</td>\n",
       "      <td>NaN</td>\n",
       "      <td>60.0</td>\n",
       "      <td>$299.00</td>\n",
       "      <td>$966.00</td>\n",
       "      <td>NaN</td>\n",
       "      <td>4</td>\n",
       "      <td>91.0</td>\n",
       "      <td>10.0</td>\n",
       "      <td>Très bel appartement, bien situé et à proximit...</td>\n",
       "    </tr>\n",
       "  </tbody>\n",
       "</table>\n",
       "<p>5 rows × 22 columns</p>\n",
       "</div>"
      ],
      "text/plain": [
       "      id                                       name  \\\n",
       "0   6499       Belém 1 Bedroom Historical Apartment   \n",
       "1  25659  Sunny,  Alfama  Sleeps 3 - Coeur d'Alfama   \n",
       "2  28066                              ear the birds   \n",
       "3  29138              Room for rent in shared house   \n",
       "4  29248   Apartamento Alfama com vista para o rio!   \n",
       "\n",
       "                                             summary  \\\n",
       "0  This apartment is all about Location, next to ...   \n",
       "1  Heart of Alfama! Center of Lisbon.  Sunny Char...   \n",
       "2                                                NaN   \n",
       "3                                                NaN   \n",
       "4                                                NaN   \n",
       "\n",
       "                                               space  \\\n",
       "0  Fully furnished apartment (35m2). Small inside...   \n",
       "1  Charming sunny apartment in the heart of Alfam...   \n",
       "2  traditional farm house in a quiet place where ...   \n",
       "3  05 minutes from city center by subway, 10 minu...   \n",
       "4  Located in the city center, and great location...   \n",
       "\n",
       "                                         description  \\\n",
       "0  This apartment is all about Location, next to ...   \n",
       "1  Heart of Alfama! Center of Lisbon.  Sunny Char...   \n",
       "2  traditional farm house in a quiet place where ...   \n",
       "3  05 minutes from city center by subway, 10 minu...   \n",
       "4  Located in the city center, and great location...   \n",
       "\n",
       "                               neighborhood_overview  \\\n",
       "0  To get  to the city center, tram 15 stops in f...   \n",
       "1  Alfama is the oldest and most picturesque quar...   \n",
       "2                                                NaN   \n",
       "3                                                NaN   \n",
       "4                                                NaN   \n",
       "\n",
       "                                               notes  \\\n",
       "0  Late check in's (after 20H) have an extra char...   \n",
       "1  Check in after 3 PM although we try to accommo...   \n",
       "2                                                NaN   \n",
       "3                                                NaN   \n",
       "4                                                NaN   \n",
       "\n",
       "                                             transit neighbourhood_cleansed  \\\n",
       "0  The apartment is on the same street as the #15...                   Belm   \n",
       "1  The apartment is very convenient to all kinds ...      Santa Maria Maior   \n",
       "2                                                NaN        Aveiras de Cima   \n",
       "3                                                NaN                Areeiro   \n",
       "4                                                NaN      Santa Maria Maior   \n",
       "\n",
       "   latitude  ...        room_type square_feet price  weekly_price  \\\n",
       "0  38.69675  ...  Entire home/apt       377.0  36.0       $209.00   \n",
       "1  38.71167  ...  Entire home/apt         NaN  60.0       $350.00   \n",
       "2  39.14654  ...     Private room         NaN  53.0           NaN   \n",
       "3  38.73634  ...     Private room         NaN  71.0           NaN   \n",
       "4  38.71272  ...  Entire home/apt         NaN  60.0       $299.00   \n",
       "\n",
       "   monthly_price square_feet availability_30  review_scores_rating  \\\n",
       "0        $579.00       377.0               5                  98.0   \n",
       "1            NaN         NaN               5                  96.0   \n",
       "2            NaN         NaN              30                   NaN   \n",
       "3            NaN         NaN              30                   NaN   \n",
       "4        $966.00         NaN               4                  91.0   \n",
       "\n",
       "   review_scores_location                                           comments  \n",
       "0                    10.0  Ola Bruno,\\r\\n\\r\\nTive um mes Fantástico em se...  \n",
       "1                    10.0  Encontramos o apartamento de Bruno exatamente ...  \n",
       "2                     NaN  Estivemos em Lisboa por aproximadamente 03 (tr...  \n",
       "3                     NaN  Superbe quartier très proche du tram et du tra...  \n",
       "4                    10.0  Très bel appartement, bien situé et à proximit...  \n",
       "\n",
       "[5 rows x 22 columns]"
      ]
     },
     "execution_count": 109,
     "metadata": {},
     "output_type": "execute_result"
    }
   ],
   "source": [
    "df.head()"
   ]
  },
  {
   "cell_type": "code",
   "execution_count": null,
   "metadata": {},
   "outputs": [],
   "source": []
  }
 ],
 "metadata": {
  "kernelspec": {
   "display_name": "Python 3",
   "language": "python",
   "name": "python3"
  },
  "language_info": {
   "codemirror_mode": {
    "name": "ipython",
    "version": 3
   },
   "file_extension": ".py",
   "mimetype": "text/x-python",
   "name": "python",
   "nbconvert_exporter": "python",
   "pygments_lexer": "ipython3",
   "version": "3.7.3"
  },
  "toc": {
   "base_numbering": 1,
   "nav_menu": {},
   "number_sections": true,
   "sideBar": true,
   "skip_h1_title": false,
   "title_cell": "Table of Contents",
   "title_sidebar": "Contents",
   "toc_cell": false,
   "toc_position": {},
   "toc_section_display": true,
   "toc_window_display": false
  }
 },
 "nbformat": 4,
 "nbformat_minor": 2
}

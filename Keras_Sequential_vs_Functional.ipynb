{
  "nbformat": 4,
  "nbformat_minor": 0,
  "metadata": {
    "colab": {
      "name": "Keras: Sequential vs Functional.ipynb",
      "provenance": [],
      "collapsed_sections": [],
      "authorship_tag": "ABX9TyNLWNONZDUTqptu/A5UyV5y",
      "include_colab_link": true
    },
    "kernelspec": {
      "name": "python3",
      "display_name": "Python 3"
    },
    "accelerator": "GPU"
  },
  "cells": [
    {
      "cell_type": "markdown",
      "metadata": {
        "id": "view-in-github",
        "colab_type": "text"
      },
      "source": [
        "<a href=\"https://colab.research.google.com/github/nonoumasy/Airbnb-Lisbon-Analysis/blob/master/Keras_Sequential_vs_Functional.ipynb\" target=\"_parent\"><img src=\"https://colab.research.google.com/assets/colab-badge.svg\" alt=\"Open In Colab\"/></a>"
      ]
    },
    {
      "cell_type": "markdown",
      "metadata": {
        "id": "7vyYStTTccRQ",
        "colab_type": "text"
      },
      "source": [
        "# Keras: Sequential vs Functional\n",
        "\n",
        "There are two ways to build Keras models: sequential and functional.\n",
        "\n",
        "The sequential API allows you to create models layer-by-layer for most problems. It is limited in that it does not allow you to create models that share layers or have multiple inputs or outputs.\n",
        "\n",
        "The functional API allows you to create models that have a lot more flexibility as you can easily define models where layers connect to more than just the previous and next layers. \n",
        "\n",
        "You can think of layers as a function. Input(x) goes thru the function and comes out as output(y). So each function is like a lambda function that does something to the input(x). Thats one way of thinking about it.\n",
        "\n"
      ]
    },
    {
      "cell_type": "code",
      "metadata": {
        "id": "7U5P1CLHoJa1",
        "colab_type": "code",
        "colab": {}
      },
      "source": [
        "import pandas as pd\n",
        "import plotly.express as px\n",
        "import matplotlib.pyplot as plt\n",
        "%matplotlib inline\n",
        "\n",
        "from sklearn.preprocessing import StandardScaler\n",
        "from sklearn.pipeline import make_pipeline"
      ],
      "execution_count": 0,
      "outputs": []
    },
    {
      "cell_type": "code",
      "metadata": {
        "id": "UyDxQdV8aMDp",
        "colab_type": "code",
        "outputId": "5dfdcf8f-538d-4717-e03c-fe68f0c053e4",
        "colab": {
          "base_uri": "https://localhost:8080/",
          "height": 51
        }
      },
      "source": [
        "# load data\n",
        "from sklearn import datasets\n",
        "iris = datasets.load_iris()\n",
        "X = iris.data\n",
        "y = iris.target\n",
        "\n",
        "# find how many features for input_dim\n",
        "print('The number of features: ', X.shape)\n",
        "\n",
        "# find out how many target classes\n",
        "print('The number of target classes: ', len(set(y)))"
      ],
      "execution_count": 0,
      "outputs": [
        {
          "output_type": "stream",
          "text": [
            "The number of features:  (150, 4)\n",
            "The number of target classes:  3\n"
          ],
          "name": "stdout"
        }
      ]
    },
    {
      "cell_type": "code",
      "metadata": {
        "id": "_1_0HQFzaO8l",
        "colab_type": "code",
        "outputId": "789ca72c-3701-4353-cab3-3a669e3478b3",
        "colab": {
          "base_uri": "https://localhost:8080/",
          "height": 80
        }
      },
      "source": [
        "# preprocessing, one_hot_encode categorical values\n",
        "from keras.utils import to_categorical\n",
        "trainY = to_categorical(y)\n",
        "\n",
        "# not sure if we need to scale the dataset. I used keras BatchNormalization but found scaling the data got a better score.\n",
        "ss = StandardScaler() \n",
        "\n",
        "# preprocessing pipeline\n",
        "pipe = make_pipeline(ss)\n",
        "X_scaled = pipe.fit_transform(X)"
      ],
      "execution_count": 0,
      "outputs": [
        {
          "output_type": "stream",
          "text": [
            "Using TensorFlow backend.\n"
          ],
          "name": "stderr"
        },
        {
          "output_type": "display_data",
          "data": {
            "text/html": [
              "<p style=\"color: red;\">\n",
              "The default version of TensorFlow in Colab will switch to TensorFlow 2.x on the 27th of March, 2020.<br>\n",
              "We recommend you <a href=\"https://www.tensorflow.org/guide/migrate\" target=\"_blank\">upgrade</a> now\n",
              "or ensure your notebook will continue to use TensorFlow 1.x via the <code>%tensorflow_version 1.x</code> magic:\n",
              "<a href=\"https://colab.research.google.com/notebooks/tensorflow_version.ipynb\" target=\"_blank\">more info</a>.</p>\n"
            ],
            "text/plain": [
              "<IPython.core.display.HTML object>"
            ]
          },
          "metadata": {
            "tags": []
          }
        }
      ]
    },
    {
      "cell_type": "markdown",
      "metadata": {
        "id": "cjs5_emsaf4i",
        "colab_type": "text"
      },
      "source": [
        "# Using Sequential API"
      ]
    },
    {
      "cell_type": "code",
      "metadata": {
        "id": "baYtH6bHaQsw",
        "colab_type": "code",
        "outputId": "edd7cc97-69d3-45a5-e8b5-e6d6766dd2e3",
        "colab": {
          "base_uri": "https://localhost:8080/",
          "height": 1000
        }
      },
      "source": [
        "from keras.models import Sequential\n",
        "from keras.layers import Dense\n",
        "\n",
        "def define_model():\n",
        "    s_model = Sequential()\n",
        "    s_model.add(Dense(50, input_dim=4, activation='relu'))\n",
        "    s_model.add(Dense(12, activation='relu'))\n",
        "    s_model.add(Dense(3, activation='softmax'))\n",
        "    s_model.compile(loss='categorical_crossentropy',optimizer='adam', metrics=['accuracy'])\n",
        "    return s_model\n",
        "\n",
        "s_model = define_model()\n",
        "s_model.fit(X_scaled, trainY, validation_split=0.1, epochs=30, batch_size=20)\n",
        "\n",
        "_, accuracy = s_model.evaluate(X_scaled, trainY)\n",
        "print('Accuracy: %.2f' % (accuracy*100))"
      ],
      "execution_count": 0,
      "outputs": [
        {
          "output_type": "stream",
          "text": [
            "WARNING:tensorflow:From /usr/local/lib/python3.6/dist-packages/keras/backend/tensorflow_backend.py:66: The name tf.get_default_graph is deprecated. Please use tf.compat.v1.get_default_graph instead.\n",
            "\n",
            "WARNING:tensorflow:From /usr/local/lib/python3.6/dist-packages/keras/backend/tensorflow_backend.py:541: The name tf.placeholder is deprecated. Please use tf.compat.v1.placeholder instead.\n",
            "\n",
            "WARNING:tensorflow:From /usr/local/lib/python3.6/dist-packages/keras/backend/tensorflow_backend.py:4432: The name tf.random_uniform is deprecated. Please use tf.random.uniform instead.\n",
            "\n",
            "WARNING:tensorflow:From /usr/local/lib/python3.6/dist-packages/keras/optimizers.py:793: The name tf.train.Optimizer is deprecated. Please use tf.compat.v1.train.Optimizer instead.\n",
            "\n",
            "WARNING:tensorflow:From /usr/local/lib/python3.6/dist-packages/keras/backend/tensorflow_backend.py:3576: The name tf.log is deprecated. Please use tf.math.log instead.\n",
            "\n",
            "WARNING:tensorflow:From /tensorflow-1.15.0/python3.6/tensorflow_core/python/ops/math_grad.py:1424: where (from tensorflow.python.ops.array_ops) is deprecated and will be removed in a future version.\n",
            "Instructions for updating:\n",
            "Use tf.where in 2.0, which has the same broadcast rule as np.where\n",
            "WARNING:tensorflow:From /usr/local/lib/python3.6/dist-packages/keras/backend/tensorflow_backend.py:1033: The name tf.assign_add is deprecated. Please use tf.compat.v1.assign_add instead.\n",
            "\n",
            "WARNING:tensorflow:From /usr/local/lib/python3.6/dist-packages/keras/backend/tensorflow_backend.py:1020: The name tf.assign is deprecated. Please use tf.compat.v1.assign instead.\n",
            "\n",
            "WARNING:tensorflow:From /usr/local/lib/python3.6/dist-packages/keras/backend/tensorflow_backend.py:3005: The name tf.Session is deprecated. Please use tf.compat.v1.Session instead.\n",
            "\n",
            "Train on 135 samples, validate on 15 samples\n",
            "Epoch 1/30\n",
            "WARNING:tensorflow:From /usr/local/lib/python3.6/dist-packages/keras/backend/tensorflow_backend.py:190: The name tf.get_default_session is deprecated. Please use tf.compat.v1.get_default_session instead.\n",
            "\n",
            "WARNING:tensorflow:From /usr/local/lib/python3.6/dist-packages/keras/backend/tensorflow_backend.py:197: The name tf.ConfigProto is deprecated. Please use tf.compat.v1.ConfigProto instead.\n",
            "\n",
            "WARNING:tensorflow:From /usr/local/lib/python3.6/dist-packages/keras/backend/tensorflow_backend.py:207: The name tf.global_variables is deprecated. Please use tf.compat.v1.global_variables instead.\n",
            "\n",
            "WARNING:tensorflow:From /usr/local/lib/python3.6/dist-packages/keras/backend/tensorflow_backend.py:216: The name tf.is_variable_initialized is deprecated. Please use tf.compat.v1.is_variable_initialized instead.\n",
            "\n",
            "WARNING:tensorflow:From /usr/local/lib/python3.6/dist-packages/keras/backend/tensorflow_backend.py:223: The name tf.variables_initializer is deprecated. Please use tf.compat.v1.variables_initializer instead.\n",
            "\n",
            "135/135 [==============================] - 1s 9ms/step - loss: 1.1877 - acc: 0.3111 - val_loss: 1.1360 - val_acc: 0.0000e+00\n",
            "Epoch 2/30\n",
            "135/135 [==============================] - 0s 255us/step - loss: 1.0963 - acc: 0.3481 - val_loss: 1.0936 - val_acc: 0.1333\n",
            "Epoch 3/30\n",
            "135/135 [==============================] - 0s 210us/step - loss: 1.0221 - acc: 0.3926 - val_loss: 1.0480 - val_acc: 0.1333\n",
            "Epoch 4/30\n",
            "135/135 [==============================] - 0s 208us/step - loss: 0.9535 - acc: 0.4815 - val_loss: 0.9876 - val_acc: 0.3333\n",
            "Epoch 5/30\n",
            "135/135 [==============================] - 0s 222us/step - loss: 0.8883 - acc: 0.6296 - val_loss: 0.9353 - val_acc: 0.4000\n",
            "Epoch 6/30\n",
            "135/135 [==============================] - 0s 182us/step - loss: 0.8250 - acc: 0.7259 - val_loss: 0.8879 - val_acc: 0.4667\n",
            "Epoch 7/30\n",
            "135/135 [==============================] - 0s 177us/step - loss: 0.7644 - acc: 0.7704 - val_loss: 0.8381 - val_acc: 0.6000\n",
            "Epoch 8/30\n",
            "135/135 [==============================] - 0s 178us/step - loss: 0.7077 - acc: 0.7926 - val_loss: 0.7849 - val_acc: 0.7333\n",
            "Epoch 9/30\n",
            "135/135 [==============================] - 0s 259us/step - loss: 0.6479 - acc: 0.8148 - val_loss: 0.7456 - val_acc: 0.7333\n",
            "Epoch 10/30\n",
            "135/135 [==============================] - 0s 273us/step - loss: 0.5952 - acc: 0.8074 - val_loss: 0.6982 - val_acc: 0.7333\n",
            "Epoch 11/30\n",
            "135/135 [==============================] - 0s 217us/step - loss: 0.5439 - acc: 0.8222 - val_loss: 0.6480 - val_acc: 0.7333\n",
            "Epoch 12/30\n",
            "135/135 [==============================] - 0s 202us/step - loss: 0.5005 - acc: 0.8222 - val_loss: 0.5954 - val_acc: 0.8667\n",
            "Epoch 13/30\n",
            "135/135 [==============================] - 0s 182us/step - loss: 0.4640 - acc: 0.8222 - val_loss: 0.5455 - val_acc: 0.8667\n",
            "Epoch 14/30\n",
            "135/135 [==============================] - 0s 198us/step - loss: 0.4327 - acc: 0.8519 - val_loss: 0.5033 - val_acc: 0.8667\n",
            "Epoch 15/30\n",
            "135/135 [==============================] - 0s 195us/step - loss: 0.4077 - acc: 0.8519 - val_loss: 0.4676 - val_acc: 0.8667\n",
            "Epoch 16/30\n",
            "135/135 [==============================] - 0s 177us/step - loss: 0.3874 - acc: 0.8444 - val_loss: 0.4428 - val_acc: 0.8667\n",
            "Epoch 17/30\n",
            "135/135 [==============================] - 0s 209us/step - loss: 0.3699 - acc: 0.8519 - val_loss: 0.4193 - val_acc: 0.8667\n",
            "Epoch 18/30\n",
            "135/135 [==============================] - 0s 179us/step - loss: 0.3551 - acc: 0.8519 - val_loss: 0.3984 - val_acc: 0.9333\n",
            "Epoch 19/30\n",
            "135/135 [==============================] - 0s 206us/step - loss: 0.3422 - acc: 0.8741 - val_loss: 0.3884 - val_acc: 0.9333\n",
            "Epoch 20/30\n",
            "135/135 [==============================] - 0s 193us/step - loss: 0.3313 - acc: 0.8741 - val_loss: 0.3744 - val_acc: 0.9333\n",
            "Epoch 21/30\n",
            "135/135 [==============================] - 0s 190us/step - loss: 0.3210 - acc: 0.8815 - val_loss: 0.3527 - val_acc: 1.0000\n",
            "Epoch 22/30\n",
            "135/135 [==============================] - 0s 195us/step - loss: 0.3112 - acc: 0.8815 - val_loss: 0.3415 - val_acc: 1.0000\n",
            "Epoch 23/30\n",
            "135/135 [==============================] - 0s 182us/step - loss: 0.3025 - acc: 0.8741 - val_loss: 0.3247 - val_acc: 1.0000\n",
            "Epoch 24/30\n",
            "135/135 [==============================] - 0s 190us/step - loss: 0.2938 - acc: 0.8963 - val_loss: 0.3177 - val_acc: 1.0000\n",
            "Epoch 25/30\n",
            "135/135 [==============================] - 0s 207us/step - loss: 0.2866 - acc: 0.9037 - val_loss: 0.3232 - val_acc: 1.0000\n",
            "Epoch 26/30\n",
            "135/135 [==============================] - 0s 206us/step - loss: 0.2778 - acc: 0.9111 - val_loss: 0.3018 - val_acc: 1.0000\n",
            "Epoch 27/30\n",
            "135/135 [==============================] - 0s 186us/step - loss: 0.2691 - acc: 0.9259 - val_loss: 0.2933 - val_acc: 1.0000\n",
            "Epoch 28/30\n",
            "135/135 [==============================] - 0s 182us/step - loss: 0.2610 - acc: 0.9185 - val_loss: 0.2772 - val_acc: 1.0000\n",
            "Epoch 29/30\n",
            "135/135 [==============================] - 0s 197us/step - loss: 0.2532 - acc: 0.9185 - val_loss: 0.2639 - val_acc: 1.0000\n",
            "Epoch 30/30\n",
            "135/135 [==============================] - 0s 197us/step - loss: 0.2450 - acc: 0.9185 - val_loss: 0.2547 - val_acc: 1.0000\n",
            "150/150 [==============================] - 0s 58us/step\n",
            "Accuracy: 93.33\n"
          ],
          "name": "stdout"
        }
      ]
    },
    {
      "cell_type": "code",
      "metadata": {
        "id": "TcJjTcGnsRsg",
        "colab_type": "code",
        "outputId": "12bb5ab6-f490-43b4-c588-b77f52cb2113",
        "colab": {
          "base_uri": "https://localhost:8080/",
          "height": 296
        }
      },
      "source": [
        "# visualize model evaluation\n",
        "pd.DataFrame(s_model.history.history).plot()\n",
        "plt.xlabel('epoch')\n",
        "plt.ylabel('accuracy')"
      ],
      "execution_count": 0,
      "outputs": [
        {
          "output_type": "execute_result",
          "data": {
            "text/plain": [
              "Text(0, 0.5, 'accuracy')"
            ]
          },
          "metadata": {
            "tags": []
          },
          "execution_count": 5
        },
        {
          "output_type": "display_data",
          "data": {
            "image/png": "[encoded data removed]",
            "text/plain": [
              "<Figure size 432x288 with 1 Axes>"
            ]
          },
          "metadata": {
            "tags": []
          }
        }
      ]
    },
    {
      "cell_type": "code",
      "metadata": {
        "id": "yfRyWuthrano",
        "colab_type": "code",
        "outputId": "797bb7ac-7cf9-469c-96d3-02efd6a7f808",
        "colab": {
          "base_uri": "https://localhost:8080/",
          "height": 641
        }
      },
      "source": [
        "# printout summary of model\n",
        "print(s_model.summary())\n",
        "print()\n",
        "# show schematic of model\n",
        "from keras.utils import plot_model\n",
        "plot_model(s_model)"
      ],
      "execution_count": 0,
      "outputs": [
        {
          "output_type": "stream",
          "text": [
            "Model: \"sequential_1\"\n",
            "_________________________________________________________________\n",
            "Layer (type)                 Output Shape              Param #   \n",
            "=================================================================\n",
            "dense_1 (Dense)              (None, 50)                250       \n",
            "_________________________________________________________________\n",
            "dense_2 (Dense)              (None, 12)                612       \n",
            "_________________________________________________________________\n",
            "dense_3 (Dense)              (None, 3)                 39        \n",
            "=================================================================\n",
            "Total params: 901\n",
            "Trainable params: 901\n",
            "Non-trainable params: 0\n",
            "_________________________________________________________________\n",
            "None\n",
            "\n"
          ],
          "name": "stdout"
        },
        {
          "output_type": "execute_result",
          "data": {
            "image/png": "[encoded data removed]",
            "text/plain": [
              "<IPython.core.display.Image object>"
            ]
          },
          "metadata": {
            "tags": []
          },
          "execution_count": 6
        }
      ]
    },
    {
      "cell_type": "markdown",
      "metadata": {
        "id": "Ha3fcWVlaTZm",
        "colab_type": "text"
      },
      "source": [
        "# Using Functional API\n",
        "\n",
        "You will probably use this more."
      ]
    },
    {
      "cell_type": "code",
      "metadata": {
        "id": "f4a67-MEakJO",
        "colab_type": "code",
        "outputId": "0aabd222-f9b5-4527-fe14-304e35d450c2",
        "colab": {
          "base_uri": "https://localhost:8080/",
          "height": 1000
        }
      },
      "source": [
        "from keras.models import Model\n",
        "from keras.layers import Input, Dense\n",
        "\n",
        "def define_model_by_functional_api():\n",
        "    input1 = Input(shape=(4,)) # this returns a tensor\n",
        "    hidden1 = Dense(50, activation='relu')(input1)\n",
        "    hidden2 = Dense(12, activation='relu')(hidden1)\n",
        "    output = Dense(3, activation='softmax')(hidden2)\n",
        "    f_model = Model(inputs=input1, outputs=output)\n",
        "    f_model.compile(loss='categorical_crossentropy', optimizer='adam', metrics=['accuracy'])\n",
        "    return f_model\n",
        "\n",
        "f_model = define_model_by_functional_api()\n",
        "f_model.fit(X_scaled, trainY, epochs=30, validation_split=0.2, batch_size=20)\n",
        "\n",
        "_, accuracy = f_model.evaluate(X_scaled, trainY)\n",
        "print('Accuracy: %.2f' % (accuracy*100))"
      ],
      "execution_count": 0,
      "outputs": [
        {
          "output_type": "stream",
          "text": [
            "Train on 120 samples, validate on 30 samples\n",
            "Epoch 1/30\n",
            "120/120 [==============================] - 0s 2ms/step - loss: 1.0838 - acc: 0.4167 - val_loss: 1.6737 - val_acc: 0.0000e+00\n",
            "Epoch 2/30\n",
            "120/120 [==============================] - 0s 216us/step - loss: 1.0034 - acc: 0.5167 - val_loss: 1.5892 - val_acc: 0.0000e+00\n",
            "Epoch 3/30\n",
            "120/120 [==============================] - 0s 193us/step - loss: 0.9355 - acc: 0.6167 - val_loss: 1.5076 - val_acc: 0.0000e+00\n",
            "Epoch 4/30\n",
            "120/120 [==============================] - 0s 209us/step - loss: 0.8725 - acc: 0.7000 - val_loss: 1.4391 - val_acc: 0.0000e+00\n",
            "Epoch 5/30\n",
            "120/120 [==============================] - 0s 209us/step - loss: 0.8147 - acc: 0.7417 - val_loss: 1.3793 - val_acc: 0.0000e+00\n",
            "Epoch 6/30\n",
            "120/120 [==============================] - 0s 195us/step - loss: 0.7635 - acc: 0.8000 - val_loss: 1.3249 - val_acc: 0.0000e+00\n",
            "Epoch 7/30\n",
            "120/120 [==============================] - 0s 199us/step - loss: 0.7148 - acc: 0.8083 - val_loss: 1.2760 - val_acc: 0.0000e+00\n",
            "Epoch 8/30\n",
            "120/120 [==============================] - 0s 222us/step - loss: 0.6696 - acc: 0.8250 - val_loss: 1.2232 - val_acc: 0.0000e+00\n",
            "Epoch 9/30\n",
            "120/120 [==============================] - 0s 192us/step - loss: 0.6285 - acc: 0.8250 - val_loss: 1.1819 - val_acc: 0.0000e+00\n",
            "Epoch 10/30\n",
            "120/120 [==============================] - 0s 186us/step - loss: 0.5906 - acc: 0.8250 - val_loss: 1.1355 - val_acc: 0.0000e+00\n",
            "Epoch 11/30\n",
            "120/120 [==============================] - 0s 220us/step - loss: 0.5561 - acc: 0.8250 - val_loss: 1.0926 - val_acc: 0.0000e+00\n",
            "Epoch 12/30\n",
            "120/120 [==============================] - 0s 210us/step - loss: 0.5239 - acc: 0.8250 - val_loss: 1.0491 - val_acc: 0.0000e+00\n",
            "Epoch 13/30\n",
            "120/120 [==============================] - 0s 257us/step - loss: 0.4955 - acc: 0.8250 - val_loss: 1.0049 - val_acc: 0.0000e+00\n",
            "Epoch 14/30\n",
            "120/120 [==============================] - 0s 180us/step - loss: 0.4696 - acc: 0.8250 - val_loss: 0.9556 - val_acc: 0.0000e+00\n",
            "Epoch 15/30\n",
            "120/120 [==============================] - 0s 195us/step - loss: 0.4458 - acc: 0.8250 - val_loss: 0.9267 - val_acc: 0.0000e+00\n",
            "Epoch 16/30\n",
            "120/120 [==============================] - 0s 220us/step - loss: 0.4249 - acc: 0.8250 - val_loss: 0.8804 - val_acc: 0.0333\n",
            "Epoch 17/30\n",
            "120/120 [==============================] - 0s 202us/step - loss: 0.4053 - acc: 0.8417 - val_loss: 0.8352 - val_acc: 0.3333\n",
            "Epoch 18/30\n",
            "120/120 [==============================] - 0s 201us/step - loss: 0.3876 - acc: 0.8750 - val_loss: 0.8098 - val_acc: 0.4667\n",
            "Epoch 19/30\n",
            "120/120 [==============================] - 0s 205us/step - loss: 0.3711 - acc: 0.9000 - val_loss: 0.7740 - val_acc: 0.5667\n",
            "Epoch 20/30\n",
            "120/120 [==============================] - 0s 264us/step - loss: 0.3561 - acc: 0.9167 - val_loss: 0.7554 - val_acc: 0.6000\n",
            "Epoch 21/30\n",
            "120/120 [==============================] - 0s 236us/step - loss: 0.3412 - acc: 0.9250 - val_loss: 0.7045 - val_acc: 0.6667\n",
            "Epoch 22/30\n",
            "120/120 [==============================] - 0s 256us/step - loss: 0.3244 - acc: 0.9500 - val_loss: 0.6750 - val_acc: 0.7667\n",
            "Epoch 23/30\n",
            "120/120 [==============================] - 0s 256us/step - loss: 0.3103 - acc: 0.9500 - val_loss: 0.6519 - val_acc: 0.7667\n",
            "Epoch 24/30\n",
            "120/120 [==============================] - 0s 261us/step - loss: 0.2949 - acc: 0.9500 - val_loss: 0.6298 - val_acc: 0.7667\n",
            "Epoch 25/30\n",
            "120/120 [==============================] - 0s 223us/step - loss: 0.2822 - acc: 0.9583 - val_loss: 0.6095 - val_acc: 0.7667\n",
            "Epoch 26/30\n",
            "120/120 [==============================] - 0s 200us/step - loss: 0.2690 - acc: 0.9583 - val_loss: 0.5701 - val_acc: 0.8000\n",
            "Epoch 27/30\n",
            "120/120 [==============================] - 0s 211us/step - loss: 0.2565 - acc: 0.9667 - val_loss: 0.5386 - val_acc: 0.8000\n",
            "Epoch 28/30\n",
            "120/120 [==============================] - 0s 175us/step - loss: 0.2438 - acc: 0.9667 - val_loss: 0.5305 - val_acc: 0.8000\n",
            "Epoch 29/30\n",
            "120/120 [==============================] - 0s 216us/step - loss: 0.2325 - acc: 0.9667 - val_loss: 0.5210 - val_acc: 0.8000\n",
            "Epoch 30/30\n",
            "120/120 [==============================] - 0s 204us/step - loss: 0.2220 - acc: 0.9667 - val_loss: 0.4826 - val_acc: 0.8333\n",
            "150/150 [==============================] - 0s 57us/step\n",
            "Accuracy: 94.67\n"
          ],
          "name": "stdout"
        }
      ]
    },
    {
      "cell_type": "code",
      "metadata": {
        "id": "vbFHSvVtsoYN",
        "colab_type": "code",
        "outputId": "5f40f6ba-be67-4c1d-e580-282f426ba120",
        "colab": {
          "base_uri": "https://localhost:8080/",
          "height": 299
        }
      },
      "source": [
        "# visualize model evaluation\n",
        "pd.DataFrame(f_model.history.history).plot()\n",
        "plt.xlabel('epoch')\n",
        "plt.ylabel('accuracy')"
      ],
      "execution_count": 0,
      "outputs": [
        {
          "output_type": "execute_result",
          "data": {
            "text/plain": [
              "Text(0, 0.5, 'accuracy')"
            ]
          },
          "metadata": {
            "tags": []
          },
          "execution_count": 8
        },
        {
          "output_type": "display_data",
          "data": {
            "image/png": "[encoded data removed]",
            "text/plain": [
              "<Figure size 432x288 with 1 Axes>"
            ]
          },
          "metadata": {
            "tags": []
          }
        }
      ]
    },
    {
      "cell_type": "code",
      "metadata": {
        "id": "NZxXAmBYamv6",
        "colab_type": "code",
        "outputId": "427d937e-df5b-46b5-8397-ee461ec2c0aa",
        "colab": {
          "base_uri": "https://localhost:8080/",
          "height": 675
        }
      },
      "source": [
        "# printout summary of model\n",
        "print(f_model.summary())\n",
        "print()\n",
        "# show schematic of model\n",
        "from keras.utils import plot_model\n",
        "plot_model(f_model)"
      ],
      "execution_count": 0,
      "outputs": [
        {
          "output_type": "stream",
          "text": [
            "Model: \"model_1\"\n",
            "_________________________________________________________________\n",
            "Layer (type)                 Output Shape              Param #   \n",
            "=================================================================\n",
            "input_1 (InputLayer)         (None, 4)                 0         \n",
            "_________________________________________________________________\n",
            "dense_4 (Dense)              (None, 50)                250       \n",
            "_________________________________________________________________\n",
            "dense_5 (Dense)              (None, 12)                612       \n",
            "_________________________________________________________________\n",
            "dense_6 (Dense)              (None, 3)                 39        \n",
            "=================================================================\n",
            "Total params: 901\n",
            "Trainable params: 901\n",
            "Non-trainable params: 0\n",
            "_________________________________________________________________\n",
            "None\n",
            "\n"
          ],
          "name": "stdout"
        },
        {
          "output_type": "execute_result",
          "data": {
            "image/png": "[encoded data removed]",
            "text/plain": [
              "<IPython.core.display.Image object>"
            ]
          },
          "metadata": {
            "tags": []
          },
          "execution_count": 9
        }
      ]
    },
    {
      "cell_type": "code",
      "metadata": {
        "id": "EDWjwiGGrugM",
        "colab_type": "code",
        "colab": {}
      },
      "source": [
        ""
      ],
      "execution_count": 0,
      "outputs": []
    }
  ]
}